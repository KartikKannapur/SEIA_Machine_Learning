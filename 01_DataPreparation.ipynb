{
 "cells": [
  {
   "cell_type": "markdown",
   "metadata": {},
   "source": [
    "## Sundance - Dataset"
   ]
  },
  {
   "cell_type": "code",
   "execution_count": 170,
   "metadata": {},
   "outputs": [],
   "source": [
    "# #Import Libraries\n",
    "import pandas as pd\n",
    "\n",
    "import glob\n",
    "from collections import defaultdict\n",
    "from datetime import datetime"
   ]
  },
  {
   "cell_type": "code",
   "execution_count": null,
   "metadata": {},
   "outputs": [],
   "source": []
  },
  {
   "cell_type": "code",
   "execution_count": 171,
   "metadata": {},
   "outputs": [],
   "source": [
    "dict_weather_id_filepath = {}\n",
    "for var_file in (glob.glob(\"sundance/SunDance_data_release/weather/*\")):\n",
    "#     print(var_file.split(\".\")[0].split(\"_\")[-1])\n",
    "    dict_weather_id_filepath[var_file.split(\".\")[0].split(\"_\")[-1]] = var_file"
   ]
  },
  {
   "cell_type": "code",
   "execution_count": 172,
   "metadata": {},
   "outputs": [],
   "source": [
    "dict_energy_id_filepath = {}\n",
    "for var_file in (glob.glob(\"sundance/SunDance_data_release/energy/*\")):\n",
    "#     print(var_file.split(\".\")[0].split(\"_\")[3])\n",
    "    dict_energy_id_filepath[var_file.split(\".\")[0].split(\"_\")[3]] = var_file"
   ]
  },
  {
   "cell_type": "code",
   "execution_count": 173,
   "metadata": {},
   "outputs": [
    {
     "name": "stdout",
     "output_type": "stream",
     "text": [
      "sundance/SunDance_data_release/weather\\SunDance_10010.csv\n",
      "sundance/SunDance_data_release/energy\\SunDance_10010_data.csv\n"
     ]
    }
   ],
   "source": [
    "# #Format\n",
    "print(dict_weather_id_filepath[\"10010\"])\n",
    "print(dict_energy_id_filepath[\"10010\"])"
   ]
  },
  {
   "cell_type": "code",
   "execution_count": 174,
   "metadata": {},
   "outputs": [],
   "source": [
    "# #Format:\n",
    "# #{'id': ['sundance_weather_path.csv', 'sundance_energy_path.csv']\n",
    "dict_weather_energy_id_filepath = {}\n",
    "\n",
    "for key in (dict_weather_id_filepath.keys() | dict_energy_id_filepath.keys()):\n",
    "    if key in dict_weather_id_filepath: dict_weather_energy_id_filepath.setdefault(key, []).append(dict_weather_id_filepath[key])\n",
    "    if key in dict_energy_id_filepath: dict_weather_energy_id_filepath.setdefault(key, []).append(dict_energy_id_filepath[key])\n",
    "        \n",
    "# print(dict_weather_energy_id_filepath)"
   ]
  },
  {
   "cell_type": "code",
   "execution_count": 175,
   "metadata": {},
   "outputs": [],
   "source": [
    "# #Test: Make sure that the files have have been mapped\n",
    "for key, value in dict_weather_energy_id_filepath.items():\n",
    "    if len(value) != 2:\n",
    "        print(key, value)"
   ]
  },
  {
   "cell_type": "markdown",
   "metadata": {},
   "source": [
    "This indicates that all the files in the weather and energy datasets have been mapped using the common identifier."
   ]
  },
  {
   "cell_type": "code",
   "execution_count": null,
   "metadata": {},
   "outputs": [],
   "source": []
  },
  {
   "cell_type": "markdown",
   "metadata": {},
   "source": [
    "### Merge the Weather and Energy datasets based on Timestamp"
   ]
  },
  {
   "cell_type": "code",
   "execution_count": 176,
   "metadata": {},
   "outputs": [],
   "source": [
    "header_sundance_weather = \"dateyear,datemon,datemday,datehour,datemin,datetzname,tempm,tempi,dewptm,dewpti,hum,wspdm,\\\n",
    "wspdi,wgustm,wgusti,wdird,wdire,vism,visi,pressurem,pressurei,windchillm,windchilli,heatindexm,heatindexi,precipm,\\\n",
    "precipi,conds,icon,fog,rain,snow,hail,thunder,tornado,metar\".split(\",\")"
   ]
  },
  {
   "cell_type": "code",
   "execution_count": 177,
   "metadata": {},
   "outputs": [],
   "source": [
    "# #dict_weather_energy_id_filepath[\"10010\"]\n",
    "df_sundance_weather = pd.read_csv(dict_weather_energy_id_filepath[\"10010\"][0], names= header_sundance_weather)\n",
    "df_sundance_energy = pd.read_csv(dict_weather_energy_id_filepath[\"10010\"][1])"
   ]
  },
  {
   "cell_type": "code",
   "execution_count": 178,
   "metadata": {},
   "outputs": [
    {
     "data": {
      "text/plain": [
       "((8556, 36), (8761, 5))"
      ]
     },
     "execution_count": 178,
     "metadata": {},
     "output_type": "execute_result"
    }
   ],
   "source": [
    "df_sundance_weather.shape, df_sundance_energy.shape"
   ]
  },
  {
   "cell_type": "code",
   "execution_count": 179,
   "metadata": {
    "scrolled": true
   },
   "outputs": [
    {
     "data": {
      "text/html": [
       "<div>\n",
       "<style>\n",
       "    .dataframe thead tr:only-child th {\n",
       "        text-align: right;\n",
       "    }\n",
       "\n",
       "    .dataframe thead th {\n",
       "        text-align: left;\n",
       "    }\n",
       "\n",
       "    .dataframe tbody tr th {\n",
       "        vertical-align: top;\n",
       "    }\n",
       "</style>\n",
       "<table border=\"1\" class=\"dataframe\">\n",
       "  <thead>\n",
       "    <tr style=\"text-align: right;\">\n",
       "      <th></th>\n",
       "      <th>dateyear</th>\n",
       "      <th>datemon</th>\n",
       "      <th>datemday</th>\n",
       "      <th>datehour</th>\n",
       "      <th>datemin</th>\n",
       "      <th>datetzname</th>\n",
       "      <th>tempm</th>\n",
       "      <th>tempi</th>\n",
       "      <th>dewptm</th>\n",
       "      <th>dewpti</th>\n",
       "      <th>...</th>\n",
       "      <th>precipi</th>\n",
       "      <th>conds</th>\n",
       "      <th>icon</th>\n",
       "      <th>fog</th>\n",
       "      <th>rain</th>\n",
       "      <th>snow</th>\n",
       "      <th>hail</th>\n",
       "      <th>thunder</th>\n",
       "      <th>tornado</th>\n",
       "      <th>metar</th>\n",
       "    </tr>\n",
       "  </thead>\n",
       "  <tbody>\n",
       "    <tr>\n",
       "      <th>0</th>\n",
       "      <td>2015</td>\n",
       "      <td>1</td>\n",
       "      <td>1</td>\n",
       "      <td>0</td>\n",
       "      <td>16</td>\n",
       "      <td>America/Denver</td>\n",
       "      <td>-11.0</td>\n",
       "      <td>12.2</td>\n",
       "      <td>-16.0</td>\n",
       "      <td>3.2</td>\n",
       "      <td>...</td>\n",
       "      <td>-9999.0</td>\n",
       "      <td>Clear</td>\n",
       "      <td>clear</td>\n",
       "      <td>0.0</td>\n",
       "      <td>0.0</td>\n",
       "      <td>0</td>\n",
       "      <td>0</td>\n",
       "      <td>0.0</td>\n",
       "      <td>0.0</td>\n",
       "      <td>METAR KBDU 010716Z AUTO 19004KT 10SM CLR M11/M...</td>\n",
       "    </tr>\n",
       "    <tr>\n",
       "      <th>1</th>\n",
       "      <td>2015</td>\n",
       "      <td>1</td>\n",
       "      <td>1</td>\n",
       "      <td>1</td>\n",
       "      <td>16</td>\n",
       "      <td>America/Denver</td>\n",
       "      <td>-11.0</td>\n",
       "      <td>12.2</td>\n",
       "      <td>-16.0</td>\n",
       "      <td>3.2</td>\n",
       "      <td>...</td>\n",
       "      <td>-9999.0</td>\n",
       "      <td>Clear</td>\n",
       "      <td>clear</td>\n",
       "      <td>0.0</td>\n",
       "      <td>0.0</td>\n",
       "      <td>0</td>\n",
       "      <td>0</td>\n",
       "      <td>0.0</td>\n",
       "      <td>0.0</td>\n",
       "      <td>METAR KBDU 010816Z AUTO 00000KT 10SM CLR M11/M...</td>\n",
       "    </tr>\n",
       "    <tr>\n",
       "      <th>2</th>\n",
       "      <td>2015</td>\n",
       "      <td>1</td>\n",
       "      <td>1</td>\n",
       "      <td>2</td>\n",
       "      <td>16</td>\n",
       "      <td>America/Denver</td>\n",
       "      <td>-11.0</td>\n",
       "      <td>12.2</td>\n",
       "      <td>-17.0</td>\n",
       "      <td>1.4</td>\n",
       "      <td>...</td>\n",
       "      <td>-9999.0</td>\n",
       "      <td>Clear</td>\n",
       "      <td>clear</td>\n",
       "      <td>0.0</td>\n",
       "      <td>0.0</td>\n",
       "      <td>0</td>\n",
       "      <td>0</td>\n",
       "      <td>0.0</td>\n",
       "      <td>0.0</td>\n",
       "      <td>METAR KBDU 010916Z AUTO 00000KT 10SM CLR M11/M...</td>\n",
       "    </tr>\n",
       "    <tr>\n",
       "      <th>3</th>\n",
       "      <td>2015</td>\n",
       "      <td>1</td>\n",
       "      <td>1</td>\n",
       "      <td>3</td>\n",
       "      <td>16</td>\n",
       "      <td>America/Denver</td>\n",
       "      <td>-11.0</td>\n",
       "      <td>12.2</td>\n",
       "      <td>-18.0</td>\n",
       "      <td>-0.4</td>\n",
       "      <td>...</td>\n",
       "      <td>-9999.0</td>\n",
       "      <td>Clear</td>\n",
       "      <td>clear</td>\n",
       "      <td>0.0</td>\n",
       "      <td>0.0</td>\n",
       "      <td>0</td>\n",
       "      <td>0</td>\n",
       "      <td>0.0</td>\n",
       "      <td>0.0</td>\n",
       "      <td>METAR KBDU 011016Z AUTO 03003KT 10SM CLR M11/M...</td>\n",
       "    </tr>\n",
       "    <tr>\n",
       "      <th>4</th>\n",
       "      <td>2015</td>\n",
       "      <td>1</td>\n",
       "      <td>1</td>\n",
       "      <td>4</td>\n",
       "      <td>16</td>\n",
       "      <td>America/Denver</td>\n",
       "      <td>-12.0</td>\n",
       "      <td>10.4</td>\n",
       "      <td>-17.0</td>\n",
       "      <td>1.4</td>\n",
       "      <td>...</td>\n",
       "      <td>-9999.0</td>\n",
       "      <td>Clear</td>\n",
       "      <td>clear</td>\n",
       "      <td>0.0</td>\n",
       "      <td>0.0</td>\n",
       "      <td>0</td>\n",
       "      <td>0</td>\n",
       "      <td>0.0</td>\n",
       "      <td>0.0</td>\n",
       "      <td>METAR KBDU 011116Z AUTO 00000KT 10SM CLR M12/M...</td>\n",
       "    </tr>\n",
       "  </tbody>\n",
       "</table>\n",
       "<p>5 rows × 36 columns</p>\n",
       "</div>"
      ],
      "text/plain": [
       "   dateyear  datemon  datemday  datehour  datemin      datetzname  tempm  \\\n",
       "0      2015        1         1         0       16  America/Denver  -11.0   \n",
       "1      2015        1         1         1       16  America/Denver  -11.0   \n",
       "2      2015        1         1         2       16  America/Denver  -11.0   \n",
       "3      2015        1         1         3       16  America/Denver  -11.0   \n",
       "4      2015        1         1         4       16  America/Denver  -12.0   \n",
       "\n",
       "   tempi  dewptm  dewpti                        ...                          \\\n",
       "0   12.2   -16.0     3.2                        ...                           \n",
       "1   12.2   -16.0     3.2                        ...                           \n",
       "2   12.2   -17.0     1.4                        ...                           \n",
       "3   12.2   -18.0    -0.4                        ...                           \n",
       "4   10.4   -17.0     1.4                        ...                           \n",
       "\n",
       "   precipi  conds   icon  fog  rain  snow hail  thunder  tornado  \\\n",
       "0  -9999.0  Clear  clear  0.0   0.0     0    0      0.0      0.0   \n",
       "1  -9999.0  Clear  clear  0.0   0.0     0    0      0.0      0.0   \n",
       "2  -9999.0  Clear  clear  0.0   0.0     0    0      0.0      0.0   \n",
       "3  -9999.0  Clear  clear  0.0   0.0     0    0      0.0      0.0   \n",
       "4  -9999.0  Clear  clear  0.0   0.0     0    0      0.0      0.0   \n",
       "\n",
       "                                               metar  \n",
       "0  METAR KBDU 010716Z AUTO 19004KT 10SM CLR M11/M...  \n",
       "1  METAR KBDU 010816Z AUTO 00000KT 10SM CLR M11/M...  \n",
       "2  METAR KBDU 010916Z AUTO 00000KT 10SM CLR M11/M...  \n",
       "3  METAR KBDU 011016Z AUTO 03003KT 10SM CLR M11/M...  \n",
       "4  METAR KBDU 011116Z AUTO 00000KT 10SM CLR M12/M...  \n",
       "\n",
       "[5 rows x 36 columns]"
      ]
     },
     "execution_count": 179,
     "metadata": {},
     "output_type": "execute_result"
    }
   ],
   "source": [
    "df_sundance_weather.head()"
   ]
  },
  {
   "cell_type": "code",
   "execution_count": 180,
   "metadata": {},
   "outputs": [
    {
     "data": {
      "text/html": [
       "<div>\n",
       "<style>\n",
       "    .dataframe thead tr:only-child th {\n",
       "        text-align: right;\n",
       "    }\n",
       "\n",
       "    .dataframe thead th {\n",
       "        text-align: left;\n",
       "    }\n",
       "\n",
       "    .dataframe tbody tr th {\n",
       "        vertical-align: top;\n",
       "    }\n",
       "</style>\n",
       "<table border=\"1\" class=\"dataframe\">\n",
       "  <thead>\n",
       "    <tr style=\"text-align: right;\">\n",
       "      <th></th>\n",
       "      <th>Date &amp; Time</th>\n",
       "      <th>Grid</th>\n",
       "      <th>Solar</th>\n",
       "      <th>Load1</th>\n",
       "      <th>Load2</th>\n",
       "    </tr>\n",
       "  </thead>\n",
       "  <tbody>\n",
       "    <tr>\n",
       "      <th>0</th>\n",
       "      <td>2016-01-01 05:00</td>\n",
       "      <td>12046.854780</td>\n",
       "      <td>29998.638518</td>\n",
       "      <td>1414.010673</td>\n",
       "      <td>-2035.617725</td>\n",
       "    </tr>\n",
       "    <tr>\n",
       "      <th>1</th>\n",
       "      <td>2016-01-01 04:00</td>\n",
       "      <td>12046.398447</td>\n",
       "      <td>29998.641113</td>\n",
       "      <td>1414.008903</td>\n",
       "      <td>-2035.451385</td>\n",
       "    </tr>\n",
       "    <tr>\n",
       "      <th>2</th>\n",
       "      <td>2016-01-01 03:00</td>\n",
       "      <td>12046.002883</td>\n",
       "      <td>29998.643668</td>\n",
       "      <td>1414.007119</td>\n",
       "      <td>-2035.288172</td>\n",
       "    </tr>\n",
       "    <tr>\n",
       "      <th>3</th>\n",
       "      <td>2016-01-01 02:00</td>\n",
       "      <td>12045.615644</td>\n",
       "      <td>29998.646296</td>\n",
       "      <td>1414.005360</td>\n",
       "      <td>-2035.129942</td>\n",
       "    </tr>\n",
       "    <tr>\n",
       "      <th>4</th>\n",
       "      <td>2016-01-01 01:00</td>\n",
       "      <td>12043.748957</td>\n",
       "      <td>29998.648868</td>\n",
       "      <td>1414.001672</td>\n",
       "      <td>-2034.929047</td>\n",
       "    </tr>\n",
       "    <tr>\n",
       "      <th>5</th>\n",
       "      <td>2016-01-01 00:00</td>\n",
       "      <td>12041.011377</td>\n",
       "      <td>29998.651456</td>\n",
       "      <td>1413.945631</td>\n",
       "      <td>-2034.746143</td>\n",
       "    </tr>\n",
       "    <tr>\n",
       "      <th>6</th>\n",
       "      <td>2015-12-31 23:00</td>\n",
       "      <td>12039.258004</td>\n",
       "      <td>29998.653860</td>\n",
       "      <td>1413.881442</td>\n",
       "      <td>-2034.600343</td>\n",
       "    </tr>\n",
       "    <tr>\n",
       "      <th>7</th>\n",
       "      <td>2015-12-31 22:00</td>\n",
       "      <td>12037.279656</td>\n",
       "      <td>29998.664177</td>\n",
       "      <td>1413.862536</td>\n",
       "      <td>-2034.422444</td>\n",
       "    </tr>\n",
       "    <tr>\n",
       "      <th>8</th>\n",
       "      <td>2015-12-31 21:00</td>\n",
       "      <td>12036.243378</td>\n",
       "      <td>29997.804695</td>\n",
       "      <td>1413.856587</td>\n",
       "      <td>-2034.349391</td>\n",
       "    </tr>\n",
       "    <tr>\n",
       "      <th>9</th>\n",
       "      <td>2015-12-31 20:00</td>\n",
       "      <td>12035.762090</td>\n",
       "      <td>29996.442008</td>\n",
       "      <td>1413.824808</td>\n",
       "      <td>-2034.333481</td>\n",
       "    </tr>\n",
       "  </tbody>\n",
       "</table>\n",
       "</div>"
      ],
      "text/plain": [
       "        Date & Time          Grid         Solar        Load1        Load2\n",
       "0  2016-01-01 05:00  12046.854780  29998.638518  1414.010673 -2035.617725\n",
       "1  2016-01-01 04:00  12046.398447  29998.641113  1414.008903 -2035.451385\n",
       "2  2016-01-01 03:00  12046.002883  29998.643668  1414.007119 -2035.288172\n",
       "3  2016-01-01 02:00  12045.615644  29998.646296  1414.005360 -2035.129942\n",
       "4  2016-01-01 01:00  12043.748957  29998.648868  1414.001672 -2034.929047\n",
       "5  2016-01-01 00:00  12041.011377  29998.651456  1413.945631 -2034.746143\n",
       "6  2015-12-31 23:00  12039.258004  29998.653860  1413.881442 -2034.600343\n",
       "7  2015-12-31 22:00  12037.279656  29998.664177  1413.862536 -2034.422444\n",
       "8  2015-12-31 21:00  12036.243378  29997.804695  1413.856587 -2034.349391\n",
       "9  2015-12-31 20:00  12035.762090  29996.442008  1413.824808 -2034.333481"
      ]
     },
     "execution_count": 180,
     "metadata": {},
     "output_type": "execute_result"
    }
   ],
   "source": [
    "df_sundance_energy.head(10)"
   ]
  },
  {
   "cell_type": "code",
   "execution_count": 181,
   "metadata": {},
   "outputs": [],
   "source": [
    "df_sundance_weather[\"datetime_yyyy_mm_dd_hh\"] = df_sundance_weather.apply(\n",
    "    lambda row: datetime(row['dateyear'], row['datemon'],row['datemday'], row['datehour']), axis=1)\n",
    "\n",
    "df_sundance_energy[\"datetime_yyyy_mm_dd_hh\"] = pd.to_datetime(df_sundance_energy[\"Date & Time\"])"
   ]
  },
  {
   "cell_type": "code",
   "execution_count": null,
   "metadata": {},
   "outputs": [],
   "source": []
  },
  {
   "cell_type": "code",
   "execution_count": 182,
   "metadata": {},
   "outputs": [],
   "source": [
    "df_sundance_weather_join_energy = pd.merge(df_sundance_weather, df_sundance_energy, on=\"datetime_yyyy_mm_dd_hh\")"
   ]
  },
  {
   "cell_type": "code",
   "execution_count": 183,
   "metadata": {},
   "outputs": [
    {
     "data": {
      "text/plain": [
       "(8551, 42)"
      ]
     },
     "execution_count": 183,
     "metadata": {},
     "output_type": "execute_result"
    }
   ],
   "source": [
    "df_sundance_weather_join_energy.shape"
   ]
  },
  {
   "cell_type": "code",
   "execution_count": null,
   "metadata": {},
   "outputs": [],
   "source": []
  },
  {
   "cell_type": "code",
   "execution_count": null,
   "metadata": {},
   "outputs": [],
   "source": []
  },
  {
   "cell_type": "code",
   "execution_count": 184,
   "metadata": {},
   "outputs": [],
   "source": [
    "# #IN PROGRESS\n",
    "# for var_file_id in list(dict_weather_energy_id_filepath.keys())[:5]:    \n",
    "# #     print(var_file_id)\n",
    "\n",
    "#     df_sundance_weather = pd.read_csv(dict_weather_energy_id_filepath[var_file_id][0], names= header_sundance_weather)\n",
    "#     df_sundance_energy = pd.read_csv(dict_weather_energy_id_filepath[var_file_id][1])\n",
    "#     print(df_sundance_weather.shape, df_sundance_energy.shape)\n",
    "    \n",
    "#     print(df_sundance_energy.head(20))"
   ]
  }
 ],
 "metadata": {},
 "nbformat": 4,
 "nbformat_minor": 2
}
